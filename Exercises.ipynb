{
 "cells": [
  {
   "cell_type": "markdown",
   "metadata": {},
   "source": [
    "2. Variables, expressions  and statements"
   ]
  },
  {
   "cell_type": "code",
   "execution_count": null,
   "metadata": {},
   "outputs": [],
   "source": [
    "0%7"
   ]
  },
  {
   "cell_type": "code",
   "execution_count": null,
   "metadata": {},
   "outputs": [],
   "source": [
    "15%12"
   ]
  },
  {
   "cell_type": "markdown",
   "metadata": {},
   "source": [
    "You look at the clock and it is exactly 2pm. You set an alarm to go off in 51 hours. At what time does the alarm go off? (Hint: you could count on your fingers, but this is not what we’re after. If you are tempted to count on your fingers, change the 51 to 5100.)"
   ]
  },
  {
   "cell_type": "code",
   "execution_count": null,
   "metadata": {},
   "outputs": [],
   "source": [
    "t = 14"
   ]
  },
  {
   "cell_type": "code",
   "execution_count": null,
   "metadata": {},
   "outputs": [],
   "source": [
    "t_off = t + 51%24"
   ]
  },
  {
   "cell_type": "code",
   "execution_count": null,
   "metadata": {},
   "outputs": [],
   "source": [
    "t_off "
   ]
  },
  {
   "cell_type": "code",
   "execution_count": null,
   "metadata": {},
   "outputs": [],
   "source": [
    "t1 = 14\n",
    "t1_off = t1 + 5230%24\n",
    "if t1_off > int(24):\n",
    "    t1_off = t1_off%24;\n",
    "\n",
    "t1_off"
   ]
  },
  {
   "cell_type": "code",
   "execution_count": null,
   "metadata": {},
   "outputs": [],
   "source": [
    "t = input('What time is it ?')\n",
    "h = input('How many hours you want to wait ?')\n",
    "type(h)\n",
    "T = int(t) + int(h)%24\n",
    "if T>24:\n",
    "    T=T%24;\n",
    "print('The alarm goes off at:' + str(T))\n"
   ]
  },
  {
   "cell_type": "markdown",
   "metadata": {},
   "source": [
    "3. Turtles"
   ]
  },
  {
   "cell_type": "code",
   "execution_count": null,
   "metadata": {},
   "outputs": [],
   "source": [
    "import turtle\n",
    "wn=turtle.Screen()\n",
    "alex=turtle.Turtle()\n",
    "alex.forward(50)\n",
    "alex.left(90)\n",
    "alex.forward(30)\n",
    "\n",
    "wn.mainloop()"
   ]
  },
  {
   "cell_type": "code",
   "execution_count": null,
   "metadata": {},
   "outputs": [],
   "source": [
    "import turtle\n",
    "#Set the window background color\n",
    "wn = turtle.Screen()\n",
    "wn.bgcolor('green')\n",
    "wn.title('Hello, Vinh')\n",
    "\n",
    "#Tell vinh to change the color\n",
    "vinh = turtle.Turtle() \n",
    "vinh.color('blue')\n",
    "vinh.pensize(3)\n",
    "\n",
    "#this is the degree of the rectangle\n",
    "vinh.forward(50)\n",
    "vinh.left(90)\n",
    "vinh.forward(50)\n",
    "\n",
    "wn.mainloop()"
   ]
  },
  {
   "cell_type": "code",
   "execution_count": null,
   "metadata": {},
   "outputs": [],
   "source": [
    "type('green')"
   ]
  },
  {
   "cell_type": "code",
   "execution_count": null,
   "metadata": {},
   "outputs": [],
   "source": [
    "cl = input('what background color do you prefer? ')\n",
    "user_name = input('What is your name?')\n",
    "import turtle\n",
    "wn = turtle.Screen()\n",
    "wn.bgcolor('green')\n",
    "wn.title('hello'+ 'user_name')\n",
    "\n",
    "uscolor = input('What color do you like? ')\n",
    "ussz = input('what size do you prefer? )\n",
    "             \n",
    "user_name = turtle.Turtle()\n",
    "user_name.color('uscolor')\n",
    "user_name.pensize(int(ussz))\n",
    "\n",
    "user_name.forward(50)\n",
    "user_name.left(130)\n",
    "user_name.forward(50)\n",
    "\n",
    "wn.mainloop()"
   ]
  },
  {
   "cell_type": "markdown",
   "metadata": {},
   "source": [
    "The for Loop"
   ]
  },
  {
   "cell_type": "code",
   "execution_count": null,
   "metadata": {},
   "outputs": [],
   "source": [
    "import turtle\n",
    "wn = turtle.Screen()\n",
    "wn.bgcolor(\"lightgreen\")\n",
    "tess = turtle.Turtle()\n",
    "tess.shape(\"turtle\")\n",
    "tess.color(\"blue\")\n",
    "\n",
    "tess.penup()\n",
    "size=20\n",
    "for i in range (30):\n",
    "    tess.stamp()\n",
    "    size = size +3\n",
    "    tess.forward(size)\n",
    "    tess.right(24)\n",
    "wn.mainloop()"
   ]
  },
  {
   "cell_type": "code",
   "execution_count": null,
   "metadata": {},
   "outputs": [],
   "source": [
    "for i in range(1000):\n",
    "    i = \"We like Python's turtles\"\n",
    "    print(i)\n",
    "    "
   ]
  },
  {
   "cell_type": "code",
   "execution_count": null,
   "metadata": {},
   "outputs": [],
   "source": [
    "for i in [\"January\",\"February\",\"March\",\"April\",\"May\",\"June\",\"July\",\"August\",\"September\",\"October\",\"November\",\"December\"]:\n",
    "    a = \"One of the month of the year is \" + i\n",
    "    print(a)"
   ]
  },
  {
   "cell_type": "code",
   "execution_count": null,
   "metadata": {},
   "outputs": [],
   "source": [
    "import turtle\n",
    "wn = turtle.Screen()\n",
    "wn.bgcolor(\"lightgreen\")\n",
    "tess = turtle.Turtle()\n",
    "tess.heading(\"east\")\n",
    "tess.color(\"blue\")\n",
    "\n",
    "tess.left(3645)\n",
    "\n",
    "wn.mainloop()\n",
    "\n",
    "#this one is wrong, can't execute"
   ]
  },
  {
   "cell_type": "code",
   "execution_count": 1,
   "metadata": {},
   "outputs": [
    {
     "name": "stdout",
     "output_type": "stream",
     "text": [
      "12\n",
      "10\n",
      "32\n",
      "3\n",
      "66\n",
      "17\n",
      "42\n",
      "99\n",
      "20\n"
     ]
    }
   ],
   "source": [
    "#write a loop print each number in new line\n",
    "for i in [12, 10, 32, 3,66,17,42,99,20]:\n",
    "    print (i)"
   ]
  },
  {
   "cell_type": "code",
   "execution_count": 3,
   "metadata": {},
   "outputs": [
    {
     "name": "stdout",
     "output_type": "stream",
     "text": [
      "[12, 144]\n",
      "[10, 100]\n",
      "[32, 1024]\n",
      "[3, 9]\n",
      "[66, 4356]\n",
      "[17, 289]\n",
      "[42, 1764]\n",
      "[99, 9801]\n",
      "[20, 400]\n"
     ]
    }
   ],
   "source": [
    "for i in [12, 10, 32, 3,66,17,42,99,20]:\n",
    "    a = [i, (i*i)]\n",
    "    print (a)"
   ]
  },
  {
   "cell_type": "code",
   "execution_count": 25,
   "metadata": {},
   "outputs": [
    {
     "name": "stdout",
     "output_type": "stream",
     "text": [
      "22\n",
      "25\n",
      "42\n",
      "42\n",
      "42\n"
     ]
    }
   ],
   "source": [
    "total = 0\n",
    "A = [12, 10, 32, 3,66,17,42,99,20]\n",
    "for i in A:\n",
    "    if i < A[8]:\n",
    "        total = total + i\n",
    "    else:\n",
    "        print(total)\n",
    "#I dont mean this, I want to print total when the loop has completed? \n",
    "    "
   ]
  },
  {
   "cell_type": "markdown",
   "metadata": {},
   "source": [
    "FUNCTION"
   ]
  },
  {
   "cell_type": "code",
   "execution_count": 28,
   "metadata": {},
   "outputs": [],
   "source": [
    "import turtle\n",
    "\n",
    "def draw_square(t,sz):\n",
    "    \"\"\"Make turtle t draw a square sz.\"\"\"\n",
    "    for i in range(4):\n",
    "     t.forward(sz)\n",
    "     t.left(90)\n",
    "    \n",
    "wn = turtle.Screen()\n",
    "wn.bgcolor(\"lightgreen\")\n",
    "wn.title(\"Alex meets a function\")\n",
    "\n",
    "alex  = turtle.Turtle()\n",
    "draw_square(alex, 50)\n",
    "wn.mainloop()"
   ]
  },
  {
   "cell_type": "code",
   "execution_count": 1,
   "metadata": {},
   "outputs": [],
   "source": [
    "import turtle\n",
    "\n",
    "def draw_multicolor_square(t,sz):\n",
    "    \"Make turtle t draw a multi-color square of sz.\"\n",
    "    for i in [\"red\",\"purple\",\"hotpink\",\"blue\"]:\n",
    "        t.color(i)\n",
    "        t.forward(sz)\n",
    "        t.left(90)\n",
    "        \n",
    "wn = turtle.Screen() #set up the window and its attributes\n",
    "wn.bgcolor(\"lightgreen\")\n",
    "\n",
    "tess = turtle.Turtle() #Create tess and set some attributes\n",
    "tess.pensize(3)\n",
    "\n",
    "size = 20 \n",
    "for i in range(15):\n",
    "    draw_multicolor_square(tess, size)\n",
    "    size = size + 10 \n",
    "    tess.forward(10)\n",
    "    tess.right(10)\n",
    "    \n",
    "wn.mainloop()\n"
   ]
  },
  {
   "cell_type": "code",
   "execution_count": 1,
   "metadata": {},
   "outputs": [],
   "source": [
    "import turtle\n",
    "def make_window(colr,ttle):\n",
    "    \"\"\"Set up the window with the given background color and tile\n",
    "    Return the new window.\"\"\"\n",
    "    w = turtle.Screen()\n",
    "    w.bgcolor(colr)\n",
    "    w.title(ttle)\n",
    "    return w\n",
    "\n",
    "def make_turtle(clr,sz):\n",
    "    \"\"\" Set up a turtle with the given color and pensize.\n",
    "    Returns the new turtle.\"\"\"\n",
    "    t = turtle.Turtle()\n",
    "    t.color(clr)\n",
    "    t.pensize(sz)\n",
    "    return t\n",
    "wn = make_window(\"lightgreen\", \"They are dancing\")\n",
    "tess = make_turtle(\"black\", 5)\n",
    "alex = make_turtle(\"hotpink\", 2)\n",
    "dave = make_turtle(\"yellow\", 1)\n",
    "\n",
    "wn.mainloop()"
   ]
  },
  {
   "cell_type": "markdown",
   "metadata": {},
   "source": [
    "Exercise functions"
   ]
  },
  {
   "cell_type": "code",
   "execution_count": 1,
   "metadata": {},
   "outputs": [],
   "source": [
    "#write a non-fruitful function to draw a square\n",
    "\n",
    "import turtle\n",
    "def draw_square(t,sz):\n",
    "    \"\"\"Make turtle t draw a square sz\"\"\"\n",
    "    for i in range (2):\n",
    "        t.forward(sz)\n",
    "        t.left(90)\n",
    "        t.forward(sz)\n",
    "        t.left(90)\n",
    "    \n",
    "        \n",
    "wn = turtle.Screen()\n",
    "wn.bgcolor(\"lightgreen\")\n",
    "\n",
    "tess = turtle.Turtle()\n",
    "tess.pensize(3)\n",
    "tess.color(\"hotpink\")\n",
    "\n",
    "size = 20 \n",
    "for i in range (5):\n",
    "    tess.stamp\n",
    "    draw_square(tess, size)\n",
    "    tess.penup()\n",
    "    tess.forward(60)\n",
    "    tess.pendown()\n",
    "\n",
    "\n",
    "wn.exitonclick()\n"
   ]
  },
  {
   "cell_type": "code",
   "execution_count": 1,
   "metadata": {},
   "outputs": [],
   "source": [
    "#write avoid function to draw square on square\n",
    "\n",
    "import turtle\n",
    "def draw_square (t,sz):\n",
    "    \"\"\"Make turtle t draw a square sz\"\"\"\n",
    "    for i in range (2):\n",
    "        t.forward(sz)\n",
    "        t.left(90)\n",
    "        t.forward(sz)\n",
    "        t.left(90)\n",
    "        \n",
    "wn = turtle.Screen()\n",
    "wn.bgcolor(\"lightgreen\")\n",
    "\n",
    "tess = turtle.Turtle()\n",
    "tess.color(\"hotpink\")\n",
    "tess.pensize(3)\n",
    "\n",
    "size = 20\n",
    "for i in range (5):\n",
    "    tess.stamp\n",
    "    draw_square(tess,size)\n",
    "    size = size + 20\n",
    "    tess.penup()\n",
    "    tess.right(120)\n",
    "    tess.left(30)\n",
    "    tess.pendown()\n",
    "    \n",
    "wn.exitonclick()\n",
    "    "
   ]
  },
  {
   "cell_type": "code",
   "execution_count": 1,
   "metadata": {},
   "outputs": [],
   "source": [
    "#draw a very pretty pattern :))\n",
    "\n",
    "import turtle\n",
    "def draw_square (t,sz):\n",
    "    \"\"\"Make turtle t draw a square sz\"\"\"\n",
    "    for i in range (2):\n",
    "        t.forward(sz)\n",
    "        t.left(90)\n",
    "        t.forward(sz)\n",
    "        t.left(90)\n",
    "wn = turtle.Screen()\n",
    "wn.bgcolor(\"lightgreen\")\n",
    "\n",
    "tess = turtle.Turtle()\n",
    "tess.color(\"blue\")\n",
    "tess.pensize(2)\n",
    "\n",
    "\n",
    "size = 50\n",
    "for i in range (20):\n",
    "    draw_square(tess,size)\n",
    "    tess.left(18)\n",
    "    \n",
    "wn.mainloop()"
   ]
  },
  {
   "cell_type": "markdown",
   "metadata": {},
   "source": [
    "Mui ten ve ngay lap tuc chuyen huong khi ket thuc chuoi, se chuyen huong ve vi tri ban dau, nen phai xet goc tu vi tri ban dau, khong phai xet goc o vi tri cuoi cung\n",
    "\n"
   ]
  },
  {
   "cell_type": "code",
   "execution_count": 1,
   "metadata": {},
   "outputs": [],
   "source": [
    "#draw 2 spirals - both wrong\n",
    "\n",
    "size = 2\n",
    "\n",
    "import turtle\n",
    "wn = turtle.Screen()\n",
    "wn.bgcolor(\"lightgreen\")\n",
    "\n",
    "tess = turtle.Turtle()\n",
    "tess.color(\"blue\")\n",
    "tess.pensize(2)\n",
    "\n",
    "for i in range (60):\n",
    "    tess.forward(size)\n",
    "    tess.right(-90)\n",
    "    size = size + 2\n",
    "    tess.right(-90)\n",
    "    size = size + 2\n",
    "    tess.right(-90)\n",
    "    \n",
    "wn.mainloop()\n"
   ]
  },
  {
   "cell_type": "code",
   "execution_count": 1,
   "metadata": {},
   "outputs": [],
   "source": [
    "size = 2\n",
    "\n",
    "import turtle\n",
    "wn = turtle.Screen()\n",
    "wn.bgcolor(\"lightgreen\")\n",
    "\n",
    "tess = turtle.Turtle()\n",
    "tess.color(\"blue\")\n",
    "tess.pensize(2)\n",
    "\n",
    "for i in range (60):\n",
    "    tess.forward(size)\n",
    "    tess.right(-95)\n",
    "    size = size + 2\n",
    "    tess.right(-95)\n",
    "    size = size + 2\n",
    "    tess.right(-95)\n",
    "    \n",
    "wn.mainloop()"
   ]
  },
  {
   "cell_type": "code",
   "execution_count": 1,
   "metadata": {},
   "outputs": [],
   "source": [
    "#draw a star\n",
    "\n",
    "import turtle \n",
    "wn = turtle.Screen()\n",
    "wn.bgcolor(\"lightgreen\")\n",
    "\n",
    "tess = turtle.Turtle()\n",
    "tess.pensize(2)\n",
    "tess.color(\"hotpink\")\n",
    "\n",
    "def draw_star(t,sz):\n",
    "    t.forward(sz)\n",
    "    t.right(72)\n",
    "    \n",
    "for i in range(8):\n",
    "    draw_star(tess, 100)\n",
    "    tess.right(72)\n",
    "    \n",
    "wn.mainloop()"
   ]
  },
  {
   "cell_type": "markdown",
   "metadata": {},
   "source": [
    "CONDITIONALS\n"
   ]
  },
  {
   "cell_type": "markdown",
   "metadata": {},
   "source": [
    "REMEMBER THAT assignment operator (=) is different from comparison operator(==)\n",
    "F + F = F; F+T = F; T+F = F; T+ T = T (and)\n",
    "\n",
    "F/F = F; F/T = T; T/F = T; T/T=T (or)\n",
    "\n"
   ]
  },
  {
   "cell_type": "markdown",
   "metadata": {},
   "source": [
    "the boolean expression after the if called CONDITION. "
   ]
  },
  {
   "cell_type": "markdown",
   "metadata": {},
   "source": [
    "Fruitful function = return a value\n",
    "\n",
    "Void function = not resulting. "
   ]
  },
  {
   "cell_type": "code",
   "execution_count": 1,
   "metadata": {},
   "outputs": [],
   "source": [
    "import turtle\n",
    "def draw_bar(t, height):\n",
    "    \"\"\"Get turtle t to draw one bar, of height.\"\"\"\n",
    "    t.begin_fill()      #fill color into the bar\n",
    "    t.left(90)\n",
    "    t.forward(height)\n",
    "    t.write(\"     \"+str(height)) #space to create space for number\n",
    "    t.right(90)\n",
    "    t.forward(40)\n",
    "    t.right(90)\n",
    "    t.forward(height)\n",
    "    t.left(90)\n",
    "    t.end_fill()\n",
    "    t.penup()\n",
    "    t.forward(10)\n",
    "    t.pendown()\n",
    "    \n",
    "wn = turtle.Screen()\n",
    "wn.bgcolor(\"lightgreen\")\n",
    "\n",
    "tess = turtle.Turtle()\n",
    "tess.color(\"blue\",\"yellow\")\n",
    "tess.pensize(3)\n",
    "\n",
    "xs = [48,117,299,240,160,260,220]\n",
    "\n",
    "for v in xs:\n",
    "    draw_bar(tess,v)\n",
    "    \n",
    "wn.mainloop()"
   ]
  },
  {
   "cell_type": "markdown",
   "metadata": {},
   "source": [
    "EXERCISES CONDITIONALS"
   ]
  },
  {
   "cell_type": "code",
   "execution_count": 7,
   "metadata": {},
   "outputs": [
    {
     "data": {
      "text/plain": [
       "'Wednesday'"
      ]
     },
     "execution_count": 7,
     "metadata": {},
     "output_type": "execute_result"
    }
   ],
   "source": [
    "n = [0,1,2,3,4,5,6]\n",
    "def week_numbers(n):\n",
    "    if n == 0:\n",
    "        return \"Sunday\"\n",
    "    elif n == 1:\n",
    "        return \"Monday\"\n",
    "    elif n == 2:\n",
    "        return \"Tuesday\"\n",
    "    elif n == 3:\n",
    "        return \"Wednesday\"\n",
    "    elif n == 4:\n",
    "        return \"Thursday\"\n",
    "    elif n == 5:\n",
    "        return \"Friday\"\n",
    "    else:\n",
    "        return \"Saturday\"\n",
    "    \n",
    "week_numbers(3)\n",
    "    \n",
    "    "
   ]
  },
  {
   "cell_type": "code",
   "execution_count": 12,
   "metadata": {},
   "outputs": [
    {
     "data": {
      "text/plain": [
       "'Saturday'"
      ]
     },
     "execution_count": 12,
     "metadata": {},
     "output_type": "execute_result"
    }
   ],
   "source": [
    "w = [0,1,2,3,4,5,6]\n",
    "def holiday_days(w,c):\n",
    "    if c > 6 and c%7==0:\n",
    "        n == w\n",
    "        return week_numbers(n)\n",
    "    elif c > 6 and c%7!=0:\n",
    "        n == (w+(c%7))%7\n",
    "        return week_numbers(n)\n",
    "    \n",
    "holiday_days(3,137)\n",
    "        "
   ]
  },
  {
   "cell_type": "markdown",
   "metadata": {},
   "source": [
    "Give the logical opposites of conditions: \n",
    "1. a > b => a <=b\n",
    "2. a>= b => a < b\n",
    "3. a >=18 and day == 3 => a< 18 and day !=3\n",
    "4. a >=18 and day != 3 => a<18 and day ==3"
   ]
  },
  {
   "cell_type": "markdown",
   "metadata": {},
   "source": [
    "Complete the truth table: \n",
    "1. T\n",
    "2. T\n",
    "3. F\n",
    "4. T\n",
    "5. T\n",
    "6. T\n",
    "7. F\n",
    "8. T"
   ]
  },
  {
   "cell_type": "code",
   "execution_count": 18,
   "metadata": {},
   "outputs": [
    {
     "name": "stdout",
     "output_type": "stream",
     "text": [
      "83 First\n",
      "75 First\n",
      "74.9 Upper Second\n",
      "70 Upper Second\n",
      "69.9 Second\n",
      "65 Second\n",
      "60 Second\n",
      "59.9 Third\n",
      "55 Third\n",
      "50 Third\n",
      "49.9 F1 Supp\n",
      "45 F1 Supp\n",
      "44.9 F2\n",
      "40 F2\n",
      "39.9 F3\n",
      "2 F3\n",
      "0 F3\n"
     ]
    }
   ],
   "source": [
    "def test_grade(m):\n",
    "    if m >=75:\n",
    "        print(str(m) + \" First\")\n",
    "    elif 70<= m <75:\n",
    "        print(str(m) + \" Upper Second\")\n",
    "    elif 60<= m < 70:\n",
    "        print(str(m) + \" Second\")\n",
    "    elif 50 <= m <60:\n",
    "        print(str(m) + \" Third\")\n",
    "    elif 45 <= m < 50:\n",
    "        print(str(m) + \" F1 Supp\")\n",
    "    elif 40 <= m < 45:\n",
    "        print(str(m) + \" F2\")\n",
    "    elif m < 40:\n",
    "        print (str(m) + \" F3\")\n",
    "xs = [83,75,74.9,70,69.9,65,60,59.9,55,50,49.9,45,44.9,40,39.9,2,0]\n",
    "\n",
    "for a in xs:\n",
    "    test_grade(a)\n",
    "        \n",
    "    "
   ]
  },
  {
   "cell_type": "code",
   "execution_count": 1,
   "metadata": {},
   "outputs": [],
   "source": [
    "import turtle\n",
    "def draw_bar(t, height):\n",
    "    \"\"\"Get turtle t to draw one bar, of height.\"\"\"\n",
    "    t.begin_fill()      #fill color into the bar\n",
    "    t.left(90)\n",
    "    t.forward(height)\n",
    "    t.write(\"     \"+str(height)) #space to create space for number\n",
    "    t.right(90)\n",
    "    t.forward(40)\n",
    "    t.right(90)\n",
    "    t.forward(height)\n",
    "    t.left(90)\n",
    "    t.end_fill()\n",
    "    t.penup()\n",
    "    t.forward(10)\n",
    "    t.pendown()\n",
    "    \n",
    "wn = turtle.Screen()\n",
    "wn.bgcolor(\"lightgreen\")\n",
    "\n",
    "tess = turtle.Turtle()\n",
    "tess.pensize(3)\n",
    "    \n",
    "\n",
    "xs = [48,117,299,240,160,260,220]\n",
    "\n",
    "for v in xs:\n",
    "     \n",
    "    if v >=200:\n",
    "        tess.color(\"blue\",\"red\")\n",
    "    elif 100<= v <200:\n",
    "        tess.color(\"blue\",\"yellow\")\n",
    "    elif v < 100:\n",
    "        tess.color(\"blue\",\"green\")\n",
    "    draw_bar(tess,v)\n",
    "\n",
    "wn.mainloop()"
   ]
  },
  {
   "cell_type": "code",
   "execution_count": 1,
   "metadata": {},
   "outputs": [],
   "source": [
    "import turtle\n",
    "def draw_bar(t, height):\n",
    "    \"\"\"Get turtle t to draw one bar, of height.\"\"\"\n",
    "    t.begin_fill()      #fill color into the bar\n",
    "    t.left(90)\n",
    "    if height > 0: \n",
    "        t.forward(height)\n",
    "        t.write(\"     \"+str(height))\n",
    "    else:\n",
    "        t.write(\"     \"+str(height))\n",
    "        t.forward(height) #space to create space for number\n",
    "    t.right(90)\n",
    "    t.forward(40)\n",
    "    t.right(90)\n",
    "    t.forward(height)\n",
    "    t.left(90)\n",
    "    t.end_fill()\n",
    "    t.penup()\n",
    "    t.forward(10)\n",
    "    t.pendown()\n",
    "    \n",
    "    \n",
    "wn = turtle.Screen()\n",
    "wn.bgcolor(\"lightgreen\")\n",
    "\n",
    "tess = turtle.Turtle()\n",
    "tess.pensize(3)\n",
    "    \n",
    "\n",
    "xs = [-150,48,117,-110,299,240,160,-50,260,220]\n",
    "\n",
    "for v in xs:\n",
    "        if v >=200:\n",
    "            tess.color(\"blue\",\"red\")\n",
    "        elif 100<= v <200:\n",
    "            tess.color(\"blue\",\"yellow\")\n",
    "        elif 0<= v < 100:\n",
    "            tess.color(\"blue\",\"green\")\n",
    "        else:\n",
    "            tess.color(\"blue\")\n",
    "        draw_bar(tess,v)\n",
    "        \n",
    "\n",
    "wn.mainloop()"
   ]
  },
  {
   "cell_type": "markdown",
   "metadata": {},
   "source": [
    "Cai do thi mau me lam :))\n",
    "In conclude, it turn left and + the height, if height< 0 then it just turn - 150 => turn right."
   ]
  }
 ],
 "metadata": {
  "kernelspec": {
   "display_name": "Python 3",
   "language": "python",
   "name": "python3"
  },
  "language_info": {
   "codemirror_mode": {
    "name": "ipython",
    "version": 3
   },
   "file_extension": ".py",
   "mimetype": "text/x-python",
   "name": "python",
   "nbconvert_exporter": "python",
   "pygments_lexer": "ipython3",
   "version": "3.7.6"
  }
 },
 "nbformat": 4,
 "nbformat_minor": 4
}
