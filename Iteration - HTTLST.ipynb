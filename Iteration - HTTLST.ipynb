{
 "cells": [
  {
   "cell_type": "code",
   "execution_count": 1,
   "metadata": {},
   "outputs": [
    {
     "name": "stdout",
     "output_type": "stream",
     "text": [
      "Even numbers in the list:  8\n",
      "Odd numbers in the list:  6\n"
     ]
    }
   ],
   "source": [
    "A = [1,3,5,8,56,8,6,3,2,544,67,21,46,34]\n",
    "odd_count, even_count = 0,0   #count odd and even numbers in list\n",
    "for a in A:\n",
    "    if a%2 ==0:\n",
    "        even_count += 1\n",
    "    else:\n",
    "        odd_count +=1\n",
    "print (\"Even numbers in the list: \", even_count)\n",
    "print (\"Odd numbers in the list: \", odd_count)\n",
    "        "
   ]
  },
  {
   "cell_type": "code",
   "execution_count": 2,
   "metadata": {},
   "outputs": [
    {
     "name": "stdout",
     "output_type": "stream",
     "text": [
      "6\n"
     ]
    }
   ],
   "source": [
    "count = 0    #count odd numbers in list\n",
    "for a in A:\n",
    "    if a%2 !=0:\n",
    "        count += 1\n",
    "print (count)"
   ]
  },
  {
   "cell_type": "code",
   "execution_count": 3,
   "metadata": {},
   "outputs": [
    {
     "name": "stdout",
     "output_type": "stream",
     "text": [
      "Sum all the even numbers in list:  704\n"
     ]
    }
   ],
   "source": [
    "even_sum = 0    #sum up all the even numbers in list\n",
    "for a in A:\n",
    "    if a%2 ==0:\n",
    "        even_sum += a\n",
    "print (\"Sum all the even numbers in list: \", even_sum)"
   ]
  },
  {
   "cell_type": "code",
   "execution_count": 4,
   "metadata": {},
   "outputs": [
    {
     "name": "stdout",
     "output_type": "stream",
     "text": [
      "Sum all the negative numbers in list:  -824\n"
     ]
    }
   ],
   "source": [
    "B = [-27,2,65,89,12,45,5236,-45,-21,-54,-45,-632,758,9564]\n",
    "\n",
    "neg_sum = 0    #Sum all the negative numbers in list\n",
    "for b in B:\n",
    "    if b < 0:\n",
    "        neg_sum += b\n",
    "print(\"Sum all the negative numbers in list: \", neg_sum)\n"
   ]
  },
  {
   "cell_type": "code",
   "execution_count": 5,
   "metadata": {},
   "outputs": [
    {
     "name": "stdout",
     "output_type": "stream",
     "text": [
      "Number of words in list have length 5:  1\n"
     ]
    }
   ],
   "source": [
    "C = [\"cat\",\"dog\", \"star\", \"superstar\", \"flowers\", \"plant\", \"pothos\", \"high\"]\n",
    "\n",
    "len_5 = 0\n",
    "for c in C:\n",
    "    if len(c) ==5:\n",
    "        len_5 +=1\n",
    "print(\"Number of words in list have length 5: \", len_5)"
   ]
  },
  {
   "cell_type": "code",
   "execution_count": 6,
   "metadata": {},
   "outputs": [
    {
     "name": "stdout",
     "output_type": "stream",
     "text": [
      "Sum all numbers excluding the 1st even number:  796\n",
      "1\n"
     ]
    }
   ],
   "source": [
    "sum_all = 0\n",
    "even_count = 0\n",
    "for a in A:\n",
    "    if a%2==0 and even_count < 1:    #If the number is even and is the 1st\n",
    "        even_count +=1\n",
    "        continue                     #Don't process it\n",
    "    sum_all += a\n",
    "        \n",
    "print (\"Sum all numbers excluding the 1st even number: \", sum_all)\n",
    "print(even_count)\n",
    "    "
   ]
  },
  {
   "cell_type": "markdown",
   "metadata": {},
   "source": [
    "STRING"
   ]
  },
  {
   "cell_type": "code",
   "execution_count": 3,
   "metadata": {},
   "outputs": [
    {
     "name": "stdout",
     "output_type": "stream",
     "text": [
      "Jack\n",
      "Kack\n",
      "Lack\n",
      "Mack\n",
      "Nack\n",
      "Ouack\n",
      "Pack\n",
      "Quack\n"
     ]
    }
   ],
   "source": [
    "prefixes = ['J','K','L','M','N','Ou','P','Qu']\n",
    "suffix = \"ack\"\n",
    "\n",
    "for letter in prefixes:\n",
    "    print(letter + suffix)"
   ]
  },
  {
   "cell_type": "code",
   "execution_count": 7,
   "metadata": {},
   "outputs": [
    {
     "data": {
      "text/plain": [
       "9"
      ]
     },
     "execution_count": 7,
     "metadata": {},
     "output_type": "execute_result"
    }
   ],
   "source": [
    "\n",
    "def count_letters(s):    #Count the number of characters\n",
    "    count = 0\n",
    "    for char in s:\n",
    "        if char == \"a\":\n",
    "            count +=1\n",
    "    return count\n",
    "\n",
    "count_letters(\"Python is a computer language that provide lots of advantage skills for analysing\")\n",
    "\n",
    "    "
   ]
  },
  {
   "cell_type": "code",
   "execution_count": 8,
   "metadata": {},
   "outputs": [],
   "source": [
    "def find(strng, ch ):\n",
    "    ix = 0\n",
    "    while ix < len(strng):\n",
    "        if strng[ix] == ch:\n",
    "            return ix\n",
    "        ix +=1\n",
    "    return -1"
   ]
  },
  {
   "cell_type": "code",
   "execution_count": 10,
   "metadata": {},
   "outputs": [
    {
     "data": {
      "text/plain": [
       "18"
      ]
     },
     "execution_count": 10,
     "metadata": {},
     "output_type": "execute_result"
    }
   ],
   "source": [
    "ss = \"Python is a computer language that is very powerful\"\n",
    "find(ss, \"e\")"
   ]
  },
  {
   "cell_type": "code",
   "execution_count": 9,
   "metadata": {},
   "outputs": [
    {
     "name": "stdout",
     "output_type": "stream",
     "text": [
      "41\n",
      "18\n",
      "['Our', 'grandma', 'kissed', 'a', 'pumpkin', 'on', 'a', 'Friday', 'afternoon', 'She', 'also', 'kissed', 'a', 'crayon', 'and', 'a', 'giant', 'red', 'balloon', 'I', 'saw', 'her', 'kiss', 'a', 'chipmunk', 'eating', 'cookies', 'with', 'a', 'queen', 'She', 'kissed', 'us', 'in', 'these', 'costumes', 'at', 'our', 'house', 'on', 'Halloween']\n"
     ]
    }
   ],
   "source": [
    "poem = \"\"\"\n",
    "Our grandma kissed a pumpkin\n",
    "on a Friday afternoon.\n",
    "She also kissed a crayon\n",
    "and a giant red balloon.\n",
    "I saw her kiss a chipmunk\n",
    "eating cookies with a queen.\n",
    "She kissed us in these costumes\n",
    "at our house on Halloween!\"\"\"\n",
    "\n",
    "import string \n",
    "\n",
    "def remove_punctuation(s):\n",
    "    s_sans_punct = \" \"\n",
    "    for letter in s:\n",
    "        if letter not in string.punctuation:\n",
    "            s_sans_punct += letter \n",
    "    return s_sans_punct\n",
    "def count_e(s):\n",
    "    count = 0\n",
    "    for char in s:\n",
    "        if char == \"e\":\n",
    "            count +=1\n",
    "    return count\n",
    "cep = count_e(poem)\n",
    "wds = remove_punctuation(poem).split()\n",
    "text = len(wds)\n",
    "\n",
    "print(text)\n",
    "print(cep)\n",
    "print(wds)\n",
    "\n",
    "        "
   ]
  },
  {
   "cell_type": "code",
   "execution_count": 11,
   "metadata": {},
   "outputs": [
    {
     "name": "stdout",
     "output_type": "stream",
     "text": [
      "43.90243902439025\n"
     ]
    }
   ],
   "source": [
    "percent_cep = (cep/text)*100\n",
    "print(percent_cep)"
   ]
  },
  {
   "cell_type": "code",
   "execution_count": 12,
   "metadata": {},
   "outputs": [
    {
     "name": "stdout",
     "output_type": "stream",
     "text": [
      "Your text contains 41 words, of which 18 (43.90243902439025) contain an 'e'\n"
     ]
    }
   ],
   "source": [
    "print(\"Your text contains \"+ str(text)+\" words, of which \"+ str(cep) + \" \"+ \"(\"+str(percent_cep)+ \")\"+\" contain an 'e'\")"
   ]
  },
  {
   "cell_type": "code",
   "execution_count": 13,
   "metadata": {},
   "outputs": [
    {
     "data": {
      "text/plain": [
       "'yppah'"
      ]
     },
     "execution_count": 13,
     "metadata": {},
     "output_type": "execute_result"
    }
   ],
   "source": [
    "def res_t(s):   #function that reverses its string\n",
    "    s_reser = s[::-1]\n",
    "    return s_reser\n",
    "res_t(\"happy\")"
   ]
  },
  {
   "cell_type": "code",
   "execution_count": 14,
   "metadata": {},
   "outputs": [
    {
     "data": {
      "text/plain": [
       "'nohtyP'"
      ]
     },
     "execution_count": 14,
     "metadata": {},
     "output_type": "execute_result"
    }
   ],
   "source": [
    "res_t(\"Python\")"
   ]
  },
  {
   "cell_type": "code",
   "execution_count": 15,
   "metadata": {},
   "outputs": [
    {
     "data": {
      "text/plain": [
       "'happyyppah'"
      ]
     },
     "execution_count": 15,
     "metadata": {},
     "output_type": "execute_result"
    }
   ],
   "source": [
    "def mirror(s):\n",
    "    s_mir = s + s[::-1]\n",
    "    return s_mir\n",
    "mirror(\"happy\")"
   ]
  },
  {
   "cell_type": "code",
   "execution_count": 16,
   "metadata": {},
   "outputs": [],
   "source": [
    "def remove_letter(ch,strng):\n",
    "    string_sans_ch = \" \"\n",
    "    for xs in strng:\n",
    "        if xs != ch:\n",
    "            string_sans_ch += xs\n",
    "    return string_sans_ch\n",
    "        "
   ]
  },
  {
   "cell_type": "code",
   "execution_count": 17,
   "metadata": {},
   "outputs": [
    {
     "data": {
      "text/plain": [
       "' pple'"
      ]
     },
     "execution_count": 17,
     "metadata": {},
     "output_type": "execute_result"
    }
   ],
   "source": [
    "remove_letter(\"a\",\"apple\")"
   ]
  },
  {
   "cell_type": "code",
   "execution_count": 18,
   "metadata": {},
   "outputs": [],
   "source": [
    "def test(s):\n",
    "    if s == s[::-1]:\n",
    "        print(\"is_palindrome\")\n",
    "    else:\n",
    "        print(\"not is_palindrome\")"
   ]
  },
  {
   "cell_type": "code",
   "execution_count": 19,
   "metadata": {},
   "outputs": [
    {
     "name": "stdout",
     "output_type": "stream",
     "text": [
      "not is_palindrome\n"
     ]
    }
   ],
   "source": [
    "test(\"banana\")"
   ]
  },
  {
   "cell_type": "code",
   "execution_count": 20,
   "metadata": {},
   "outputs": [
    {
     "name": "stdout",
     "output_type": "stream",
     "text": [
      "is_palindrome\n"
     ]
    }
   ],
   "source": [
    "test(\"tenet\")"
   ]
  },
  {
   "cell_type": "code",
   "execution_count": 21,
   "metadata": {},
   "outputs": [
    {
     "name": "stdout",
     "output_type": "stream",
     "text": [
      "is_palindrome\n"
     ]
    }
   ],
   "source": [
    "test(\" \")"
   ]
  },
  {
   "cell_type": "code",
   "execution_count": 22,
   "metadata": {},
   "outputs": [],
   "source": [
    "\n",
    "def count(ch,s):\n",
    "    count = 0\n",
    "    len_strng = len(s)\n",
    "    len_substr = len(ch)\n",
    "    for i in range (len(s)):\n",
    "        if s[i:i+len_strng]==len_substr:\n",
    "            count +=1\n",
    "    return count\n",
    "            "
   ]
  },
  {
   "cell_type": "code",
   "execution_count": 94,
   "metadata": {},
   "outputs": [
    {
     "data": {
      "text/plain": [
       "0"
      ]
     },
     "execution_count": 94,
     "metadata": {},
     "output_type": "execute_result"
    }
   ],
   "source": [
    "count(\"is\",\"Mississipi\")"
   ]
  },
  {
   "cell_type": "code",
   "execution_count": 23,
   "metadata": {},
   "outputs": [
    {
     "data": {
      "text/plain": [
       "'Con me'"
      ]
     },
     "execution_count": 23,
     "metadata": {},
     "output_type": "execute_result"
    }
   ],
   "source": [
    "s = \"Con meo\"\n",
    "s[:-1]"
   ]
  },
  {
   "cell_type": "code",
   "execution_count": 24,
   "metadata": {},
   "outputs": [
    {
     "data": {
      "text/plain": [
       "0"
      ]
     },
     "execution_count": 24,
     "metadata": {},
     "output_type": "execute_result"
    }
   ],
   "source": [
    "count(\"a\",\"banana\")"
   ]
  },
  {
   "cell_type": "code",
   "execution_count": 25,
   "metadata": {},
   "outputs": [
    {
     "data": {
      "text/plain": [
       "2"
      ]
     },
     "execution_count": 25,
     "metadata": {},
     "output_type": "execute_result"
    }
   ],
   "source": [
    "n =\"Mississipi\"   #Count number of substrings in a string\n",
    "n.count(\"is\")"
   ]
  },
  {
   "cell_type": "markdown",
   "metadata": {},
   "source": [
    "Exercise 11 in strings still stucks. Haven't understood the concept of it."
   ]
  },
  {
   "cell_type": "markdown",
   "metadata": {},
   "source": [
    "EVENT_DRIVEN PROGRAMMING"
   ]
  },
  {
   "cell_type": "code",
   "execution_count": 26,
   "metadata": {},
   "outputs": [],
   "source": [
    "import turtle\n",
    "turtle.setup(400,500)\n",
    "wn = turtle.Screen()\n",
    "wn.title(\"Handling keypresses!\")\n",
    "wn.bgcolor(\"lightgreen\")\n",
    "tess = turtle.Turtle()\n",
    "# Determine the window size\n",
    "# Get a reference to the window\n",
    "# Change the window title\n",
    "# Set the background color\n",
    "# Create our favorite turtle\n",
    "# The next four functions are our \"event handlers\".\n",
    "def h1(): tess.forward(30)\n",
    "def h2(): tess.left(45)\n",
    "def h3(): tess.right(45)\n",
    "def h4(): wn.bye()\n",
    "# Close down the turtle window\n",
    "# These lines \"wire up\" keypresses to the handlers we’ve defined.\n",
    "wn.onkey(h1, \"Up\")\n",
    "wn.onkey(h2, \"Left\")\n",
    "wn.onkey(h3, \"Right\")\n",
    "wn.onkey(h4, \"q\")\n",
    "# Now we need to tell the window to start listening for events, # If any of the keys that we’re monitoring is pressed, its\n",
    "# handler will be called.\n",
    "wn.listen()\n",
    "wn.mainloop()"
   ]
  },
  {
   "cell_type": "code",
   "execution_count": 1,
   "metadata": {},
   "outputs": [],
   "source": [
    "import turtle\n",
    "\n",
    "turtle.setup(400,500)\n",
    "wn = turtle.Screen()\n",
    "wn.title(\"How to handle mouse clicks on the window!\")\n",
    "wn.bgcolor(\"lightgreen\")\n",
    "\n",
    "tess = turtle.Turtle()\n",
    "tess.color(\"purple\")\n",
    "tess.pensize(3)\n",
    "tess.shape(\"circle\")\n",
    "           \n",
    "def h1(x, y):\n",
    "    tess.goto(x, y)\n",
    "           \n",
    "wn.onclick(h1) # Wire up a click on the window.\n",
    "wn.mainloop()"
   ]
  },
  {
   "cell_type": "code",
   "execution_count": 1,
   "metadata": {},
   "outputs": [],
   "source": [
    "import turtle\n",
    "\n",
    "turtle.setup(400,500)\n",
    "wn = turtle.Screen()\n",
    "wn.title(\"Handling mouse clicks!\")\n",
    "wn.bgcolor(\"lightgreen\")\n",
    "\n",
    "tess = turtle.Turtle()\n",
    "tess.color(\"purple\")\n",
    "alex = turtle.Turtle()\n",
    "alex.color(\"blue\")\n",
    "alex.forward(100)\n",
    "\n",
    "def handler_for_tess(x, y):\n",
    "    wn.title(\"Tess clicked at {0}, {1}\".format(x,y))\n",
    "    tess.left(42)\n",
    "    tess.forward(30)\n",
    "def handler_for_alex(x, y):\n",
    "    wn.title(\"Alex clicked at {0}, {1}\".format(x,y))\n",
    "    alex.right(84)\n",
    "    alex.forward(50)\n",
    "    \n",
    "tess.onclick(handler_for_tess)\n",
    "alex.onclick(handler_for_alex)\n",
    "\n",
    "wn.mainloop()\n",
    "\n"
   ]
  },
  {
   "cell_type": "code",
   "execution_count": null,
   "metadata": {},
   "outputs": [],
   "source": []
  }
 ],
 "metadata": {
  "kernelspec": {
   "display_name": "Python 3",
   "language": "python",
   "name": "python3"
  },
  "language_info": {
   "codemirror_mode": {
    "name": "ipython",
    "version": 3
   },
   "file_extension": ".py",
   "mimetype": "text/x-python",
   "name": "python",
   "nbconvert_exporter": "python",
   "pygments_lexer": "ipython3",
   "version": "3.7.6"
  }
 },
 "nbformat": 4,
 "nbformat_minor": 4
}
